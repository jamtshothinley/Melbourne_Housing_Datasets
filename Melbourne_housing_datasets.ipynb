{
 "cells": [
  {
   "cell_type": "code",
   "execution_count": null,
   "metadata": {},
   "outputs": [],
   "source": [
    "# importing libararies"
   ]
  },
  {
   "cell_type": "code",
   "execution_count": 2,
   "metadata": {
    "tags": []
   },
   "outputs": [],
   "source": [
    "import pandas as pd"
   ]
  },
  {
   "cell_type": "code",
   "execution_count": 3,
   "metadata": {},
   "outputs": [],
   "source": [
    "# reading files"
   ]
  },
  {
   "cell_type": "code",
   "execution_count": 5,
   "metadata": {
    "tags": []
   },
   "outputs": [],
   "source": [
    "dataset = pd.read_csv('./Melbourne_housing_FULL.csv')"
   ]
  },
  {
   "cell_type": "code",
   "execution_count": 7,
   "metadata": {},
   "outputs": [],
   "source": [
    "# displaying the first 5 rows of the DataFrame 'df'"
   ]
  },
  {
   "cell_type": "code",
   "execution_count": 8,
   "metadata": {
    "tags": []
   },
   "outputs": [
    {
     "data": {
      "text/html": [
       "<div>\n",
       "<style scoped>\n",
       "    .dataframe tbody tr th:only-of-type {\n",
       "        vertical-align: middle;\n",
       "    }\n",
       "\n",
       "    .dataframe tbody tr th {\n",
       "        vertical-align: top;\n",
       "    }\n",
       "\n",
       "    .dataframe thead th {\n",
       "        text-align: right;\n",
       "    }\n",
       "</style>\n",
       "<table border=\"1\" class=\"dataframe\">\n",
       "  <thead>\n",
       "    <tr style=\"text-align: right;\">\n",
       "      <th></th>\n",
       "      <th>Suburb</th>\n",
       "      <th>Address</th>\n",
       "      <th>Rooms</th>\n",
       "      <th>Type</th>\n",
       "      <th>Price</th>\n",
       "      <th>Method</th>\n",
       "      <th>SellerG</th>\n",
       "      <th>Date</th>\n",
       "      <th>Distance</th>\n",
       "      <th>Postcode</th>\n",
       "      <th>...</th>\n",
       "      <th>Bathroom</th>\n",
       "      <th>Car</th>\n",
       "      <th>Landsize</th>\n",
       "      <th>BuildingArea</th>\n",
       "      <th>YearBuilt</th>\n",
       "      <th>CouncilArea</th>\n",
       "      <th>Lattitude</th>\n",
       "      <th>Longtitude</th>\n",
       "      <th>Regionname</th>\n",
       "      <th>Propertycount</th>\n",
       "    </tr>\n",
       "  </thead>\n",
       "  <tbody>\n",
       "    <tr>\n",
       "      <th>0</th>\n",
       "      <td>Abbotsford</td>\n",
       "      <td>68 Studley St</td>\n",
       "      <td>2</td>\n",
       "      <td>h</td>\n",
       "      <td>NaN</td>\n",
       "      <td>SS</td>\n",
       "      <td>Jellis</td>\n",
       "      <td>3/09/2016</td>\n",
       "      <td>2.5</td>\n",
       "      <td>3067.0</td>\n",
       "      <td>...</td>\n",
       "      <td>1.0</td>\n",
       "      <td>1.0</td>\n",
       "      <td>126.0</td>\n",
       "      <td>NaN</td>\n",
       "      <td>NaN</td>\n",
       "      <td>Yarra City Council</td>\n",
       "      <td>-37.8014</td>\n",
       "      <td>144.9958</td>\n",
       "      <td>Northern Metropolitan</td>\n",
       "      <td>4019.0</td>\n",
       "    </tr>\n",
       "    <tr>\n",
       "      <th>1</th>\n",
       "      <td>Abbotsford</td>\n",
       "      <td>85 Turner St</td>\n",
       "      <td>2</td>\n",
       "      <td>h</td>\n",
       "      <td>1480000.0</td>\n",
       "      <td>S</td>\n",
       "      <td>Biggin</td>\n",
       "      <td>3/12/2016</td>\n",
       "      <td>2.5</td>\n",
       "      <td>3067.0</td>\n",
       "      <td>...</td>\n",
       "      <td>1.0</td>\n",
       "      <td>1.0</td>\n",
       "      <td>202.0</td>\n",
       "      <td>NaN</td>\n",
       "      <td>NaN</td>\n",
       "      <td>Yarra City Council</td>\n",
       "      <td>-37.7996</td>\n",
       "      <td>144.9984</td>\n",
       "      <td>Northern Metropolitan</td>\n",
       "      <td>4019.0</td>\n",
       "    </tr>\n",
       "    <tr>\n",
       "      <th>2</th>\n",
       "      <td>Abbotsford</td>\n",
       "      <td>25 Bloomburg St</td>\n",
       "      <td>2</td>\n",
       "      <td>h</td>\n",
       "      <td>1035000.0</td>\n",
       "      <td>S</td>\n",
       "      <td>Biggin</td>\n",
       "      <td>4/02/2016</td>\n",
       "      <td>2.5</td>\n",
       "      <td>3067.0</td>\n",
       "      <td>...</td>\n",
       "      <td>1.0</td>\n",
       "      <td>0.0</td>\n",
       "      <td>156.0</td>\n",
       "      <td>79.0</td>\n",
       "      <td>1900.0</td>\n",
       "      <td>Yarra City Council</td>\n",
       "      <td>-37.8079</td>\n",
       "      <td>144.9934</td>\n",
       "      <td>Northern Metropolitan</td>\n",
       "      <td>4019.0</td>\n",
       "    </tr>\n",
       "    <tr>\n",
       "      <th>3</th>\n",
       "      <td>Abbotsford</td>\n",
       "      <td>18/659 Victoria St</td>\n",
       "      <td>3</td>\n",
       "      <td>u</td>\n",
       "      <td>NaN</td>\n",
       "      <td>VB</td>\n",
       "      <td>Rounds</td>\n",
       "      <td>4/02/2016</td>\n",
       "      <td>2.5</td>\n",
       "      <td>3067.0</td>\n",
       "      <td>...</td>\n",
       "      <td>2.0</td>\n",
       "      <td>1.0</td>\n",
       "      <td>0.0</td>\n",
       "      <td>NaN</td>\n",
       "      <td>NaN</td>\n",
       "      <td>Yarra City Council</td>\n",
       "      <td>-37.8114</td>\n",
       "      <td>145.0116</td>\n",
       "      <td>Northern Metropolitan</td>\n",
       "      <td>4019.0</td>\n",
       "    </tr>\n",
       "    <tr>\n",
       "      <th>4</th>\n",
       "      <td>Abbotsford</td>\n",
       "      <td>5 Charles St</td>\n",
       "      <td>3</td>\n",
       "      <td>h</td>\n",
       "      <td>1465000.0</td>\n",
       "      <td>SP</td>\n",
       "      <td>Biggin</td>\n",
       "      <td>4/03/2017</td>\n",
       "      <td>2.5</td>\n",
       "      <td>3067.0</td>\n",
       "      <td>...</td>\n",
       "      <td>2.0</td>\n",
       "      <td>0.0</td>\n",
       "      <td>134.0</td>\n",
       "      <td>150.0</td>\n",
       "      <td>1900.0</td>\n",
       "      <td>Yarra City Council</td>\n",
       "      <td>-37.8093</td>\n",
       "      <td>144.9944</td>\n",
       "      <td>Northern Metropolitan</td>\n",
       "      <td>4019.0</td>\n",
       "    </tr>\n",
       "  </tbody>\n",
       "</table>\n",
       "<p>5 rows × 21 columns</p>\n",
       "</div>"
      ],
      "text/plain": [
       "       Suburb             Address  Rooms Type      Price Method SellerG  \\\n",
       "0  Abbotsford       68 Studley St      2    h        NaN     SS  Jellis   \n",
       "1  Abbotsford        85 Turner St      2    h  1480000.0      S  Biggin   \n",
       "2  Abbotsford     25 Bloomburg St      2    h  1035000.0      S  Biggin   \n",
       "3  Abbotsford  18/659 Victoria St      3    u        NaN     VB  Rounds   \n",
       "4  Abbotsford        5 Charles St      3    h  1465000.0     SP  Biggin   \n",
       "\n",
       "        Date  Distance  Postcode  ...  Bathroom  Car  Landsize  BuildingArea  \\\n",
       "0  3/09/2016       2.5    3067.0  ...       1.0  1.0     126.0           NaN   \n",
       "1  3/12/2016       2.5    3067.0  ...       1.0  1.0     202.0           NaN   \n",
       "2  4/02/2016       2.5    3067.0  ...       1.0  0.0     156.0          79.0   \n",
       "3  4/02/2016       2.5    3067.0  ...       2.0  1.0       0.0           NaN   \n",
       "4  4/03/2017       2.5    3067.0  ...       2.0  0.0     134.0         150.0   \n",
       "\n",
       "   YearBuilt         CouncilArea Lattitude  Longtitude             Regionname  \\\n",
       "0        NaN  Yarra City Council  -37.8014    144.9958  Northern Metropolitan   \n",
       "1        NaN  Yarra City Council  -37.7996    144.9984  Northern Metropolitan   \n",
       "2     1900.0  Yarra City Council  -37.8079    144.9934  Northern Metropolitan   \n",
       "3        NaN  Yarra City Council  -37.8114    145.0116  Northern Metropolitan   \n",
       "4     1900.0  Yarra City Council  -37.8093    144.9944  Northern Metropolitan   \n",
       "\n",
       "  Propertycount  \n",
       "0        4019.0  \n",
       "1        4019.0  \n",
       "2        4019.0  \n",
       "3        4019.0  \n",
       "4        4019.0  \n",
       "\n",
       "[5 rows x 21 columns]"
      ]
     },
     "execution_count": 8,
     "metadata": {},
     "output_type": "execute_result"
    }
   ],
   "source": [
    "dataset.head()"
   ]
  },
  {
   "cell_type": "code",
   "execution_count": 9,
   "metadata": {},
   "outputs": [],
   "source": [
    "# Selecting only the specified columns from the dataset"
   ]
  },
  {
   "cell_type": "code",
   "execution_count": 10,
   "metadata": {
    "tags": []
   },
   "outputs": [],
   "source": [
    "cols_to_use = ['Suburb', 'Rooms', 'Type', 'Method', 'SellerG', 'Regionname', \n",
    "               'Propertycount', 'Distance','Bedroom2', 'Bathroom', 'Car', \n",
    "               'Landsize', 'BuildingArea', 'Price']\n",
    "dataset = dataset[cols_to_use]\n"
   ]
  },
  {
   "cell_type": "markdown",
   "metadata": {},
   "source": [
    "### missing values"
   ]
  },
  {
   "cell_type": "code",
   "execution_count": 11,
   "metadata": {
    "tags": []
   },
   "outputs": [],
   "source": [
    "cols_to_fill_zero = ['Propertycount', 'Distance', 'Bedroom2', 'Bathroom', 'Car']\n",
    "dataset[cols_to_fill_zero] = dataset[cols_to_fill_zero].fillna(0)\n",
    "\n",
    "dataset['Landsize'] = dataset['Landsize'].fillna(dataset.Landsize.mean())\n",
    "dataset['BuildingArea'] = dataset['BuildingArea'].fillna(dataset.BuildingArea.mean())"
   ]
  },
  {
   "cell_type": "code",
   "execution_count": 12,
   "metadata": {},
   "outputs": [],
   "source": [
    "# List of columns where missing values will be filled with zeros\n",
    "cols_to_fill_zero = ['Propertycount', 'Distance', 'Bedroom2', 'Bathroom', 'Car']\n",
    "dataset[cols_to_fill_zero] = dataset[cols_to_fill_zero].fillna(0)\n",
    "\n",
    "# Filling missing values in the 'Landsize' column with the mean value of the column\n",
    "dataset['Landsize'] = dataset['Landsize'].fillna(dataset['Landsize'].mean())\n",
    "\n",
    "# Filling missing values in the 'BuildingArea' column with the mean value of the column\n",
    "dataset['BuildingArea'] = dataset['BuildingArea'].fillna(dataset['BuildingArea'].mean())\n"
   ]
  },
  {
   "cell_type": "code",
   "execution_count": 13,
   "metadata": {
    "tags": []
   },
   "outputs": [],
   "source": [
    "# Droping rows with missing values from the DataFrame\n",
    "dataset.dropna(inplace=True)\n"
   ]
  },
  {
   "cell_type": "code",
   "execution_count": 14,
   "metadata": {
    "tags": []
   },
   "outputs": [
    {
     "data": {
      "text/plain": [
       "(27244, 14)"
      ]
     },
     "execution_count": 14,
     "metadata": {},
     "output_type": "execute_result"
    }
   ],
   "source": [
    "dataset.shape"
   ]
  },
  {
   "cell_type": "markdown",
   "metadata": {},
   "source": [
    "### Outlier handling"
   ]
  },
  {
   "cell_type": "code",
   "execution_count": 15,
   "metadata": {
    "tags": []
   },
   "outputs": [
    {
     "name": "stdout",
     "output_type": "stream",
     "text": [
      "1st quartile = 2.0 \n",
      "3rd quartile range = 4.0 \n",
      "interquartile range = 2.0 \n"
     ]
    }
   ],
   "source": [
    "from scipy import stats\n",
    "q1 = dataset['Rooms'].quantile(q=0.25)\n",
    "q3 = dataset['Rooms'].quantile(q=0.75)\n",
    "IQR = q3 - q1\n",
    "\n",
    "print('1st quartile = {} \\n3rd quartile range = {} \\ninterquartile range = {} '\n",
    "      .format(q1, q3, stats.iqr(dataset['Rooms'])))"
   ]
  },
  {
   "cell_type": "code",
   "execution_count": 16,
   "metadata": {
    "tags": []
   },
   "outputs": [
    {
     "name": "stdout",
     "output_type": "stream",
     "text": [
      "lower outlier =  -1.0\n",
      "upper outlier =  7.0\n"
     ]
    }
   ],
   "source": [
    "lower_outlier = q1 - 1.5 * IQR\n",
    "\n",
    "upper_outlier = q3 + 1.5 * IQR\n",
    "\n",
    "print('lower outlier = ', lower_outlier)\n",
    "print('upper outlier = ', upper_outlier)"
   ]
  },
  {
   "cell_type": "code",
   "execution_count": 17,
   "metadata": {
    "tags": []
   },
   "outputs": [
    {
     "name": "stdout",
     "output_type": "stream",
     "text": [
      "Number of upper outliers =  23\n",
      "Number of lower outliers =  0\n"
     ]
    }
   ],
   "source": [
    "print('Number of upper outliers = ', dataset[dataset['Rooms'] > upper_outlier]['Rooms'].count())\n",
    "print('Number of lower outliers = ', dataset[dataset['Rooms'] < lower_outlier]['Rooms'].count())"
   ]
  },
  {
   "cell_type": "code",
   "execution_count": 18,
   "metadata": {
    "tags": []
   },
   "outputs": [],
   "source": [
    "dataset.loc[(dataset['Rooms'] < lower_outlier) | (dataset['Rooms'] > upper_outlier),\n",
    "            ['Rooms']] = dataset['Rooms'].median()"
   ]
  },
  {
   "cell_type": "code",
   "execution_count": 19,
   "metadata": {
    "tags": []
   },
   "outputs": [
    {
     "name": "stdout",
     "output_type": "stream",
     "text": [
      "Number of upper outliers =  0\n",
      "Number of lower outliers =  0\n"
     ]
    }
   ],
   "source": [
    "print('Number of upper outliers = ',\n",
    "      dataset[dataset['Rooms'] > upper_outlier]['Rooms'].count())\n",
    "\n",
    "print('Number of lower outliers = ',\n",
    "      dataset[dataset['Rooms'] < lower_outlier]['Rooms'].count())"
   ]
  },
  {
   "cell_type": "code",
   "execution_count": 22,
   "metadata": {
    "tags": []
   },
   "outputs": [],
   "source": [
    "for cols in dataset.columns[:-1]:\n",
    "    if dataset[cols].dtype == object:\n",
    "        continue\n",
    "    else:\n",
    "        Q1 = dataset[cols].quantile(q=0.25)\n",
    "        Q3 = dataset[cols].quantile(q=0.75)\n",
    "        IQR = Q3 - Q1\n",
    "\n",
    "        low = Q1 - 1.5 * IQR\n",
    "        high = Q3 + 1.5 * IQR\n",
    "\n",
    "        dataset.loc[(dataset[cols] < low) | (dataset[cols] > high), cols] = dataset[cols].median()"
   ]
  },
  {
   "cell_type": "code",
   "execution_count": 23,
   "metadata": {
    "tags": []
   },
   "outputs": [
    {
     "name": "stderr",
     "output_type": "stream",
     "text": [
      "C:\\Users\\jamts\\anaconda3\\Lib\\site-packages\\seaborn\\_oldcore.py:1498: FutureWarning: is_categorical_dtype is deprecated and will be removed in a future version. Use isinstance(dtype, CategoricalDtype) instead\n",
      "  if pd.api.types.is_categorical_dtype(vector):\n"
     ]
    },
    {
     "data": {
      "image/png": "[encoded data removed]",
      "text/plain": [
       "<Figure size 800x400 with 1 Axes>"
      ]
     },
     "metadata": {},
     "output_type": "display_data"
    }
   ],
   "source": [
    "import seaborn as sns\n",
    "import matplotlib.pyplot as plt\n",
    "\n",
    "# Set the figure size\n",
    "plt.figure(figsize=(8, 4))\n",
    "\n",
    "# Create a horizontal boxplot for the 'BuildingArea' column\n",
    "sns.boxplot(x='BuildingArea', data=dataset, orient='h')\n",
    "\n",
    "# Show the plot\n",
    "plt.show()"
   ]
  },
  {
   "cell_type": "code",
   "execution_count": 25,
   "metadata": {
    "tags": []
   },
   "outputs": [
    {
     "name": "stdout",
     "output_type": "stream",
     "text": [
      "(27244, 14)\n",
      "(27244, 7)\n"
     ]
    },
    {
     "data": {
      "text/html": [
       "<div>\n",
       "<style scoped>\n",
       "    .dataframe tbody tr th:only-of-type {\n",
       "        vertical-align: middle;\n",
       "    }\n",
       "\n",
       "    .dataframe tbody tr th {\n",
       "        vertical-align: top;\n",
       "    }\n",
       "\n",
       "    .dataframe thead th {\n",
       "        text-align: right;\n",
       "    }\n",
       "</style>\n",
       "<table border=\"1\" class=\"dataframe\">\n",
       "  <thead>\n",
       "    <tr style=\"text-align: right;\">\n",
       "      <th></th>\n",
       "      <th>Rooms</th>\n",
       "      <th>Propertycount</th>\n",
       "      <th>Distance</th>\n",
       "      <th>Bedroom2</th>\n",
       "      <th>Bathroom</th>\n",
       "      <th>Landsize</th>\n",
       "      <th>BuildingArea</th>\n",
       "    </tr>\n",
       "  </thead>\n",
       "  <tbody>\n",
       "    <tr>\n",
       "      <th>1</th>\n",
       "      <td>2</td>\n",
       "      <td>4019.0</td>\n",
       "      <td>2.5</td>\n",
       "      <td>2.0</td>\n",
       "      <td>1.0</td>\n",
       "      <td>202.0</td>\n",
       "      <td>160.2564</td>\n",
       "    </tr>\n",
       "    <tr>\n",
       "      <th>2</th>\n",
       "      <td>2</td>\n",
       "      <td>4019.0</td>\n",
       "      <td>2.5</td>\n",
       "      <td>2.0</td>\n",
       "      <td>1.0</td>\n",
       "      <td>156.0</td>\n",
       "      <td>160.2564</td>\n",
       "    </tr>\n",
       "    <tr>\n",
       "      <th>4</th>\n",
       "      <td>3</td>\n",
       "      <td>4019.0</td>\n",
       "      <td>2.5</td>\n",
       "      <td>3.0</td>\n",
       "      <td>2.0</td>\n",
       "      <td>134.0</td>\n",
       "      <td>160.2564</td>\n",
       "    </tr>\n",
       "    <tr>\n",
       "      <th>5</th>\n",
       "      <td>3</td>\n",
       "      <td>4019.0</td>\n",
       "      <td>2.5</td>\n",
       "      <td>3.0</td>\n",
       "      <td>2.0</td>\n",
       "      <td>94.0</td>\n",
       "      <td>160.2564</td>\n",
       "    </tr>\n",
       "    <tr>\n",
       "      <th>6</th>\n",
       "      <td>4</td>\n",
       "      <td>4019.0</td>\n",
       "      <td>2.5</td>\n",
       "      <td>3.0</td>\n",
       "      <td>1.0</td>\n",
       "      <td>120.0</td>\n",
       "      <td>160.2564</td>\n",
       "    </tr>\n",
       "  </tbody>\n",
       "</table>\n",
       "</div>"
      ],
      "text/plain": [
       "   Rooms  Propertycount  Distance  Bedroom2  Bathroom  Landsize  BuildingArea\n",
       "1      2         4019.0       2.5       2.0       1.0     202.0      160.2564\n",
       "2      2         4019.0       2.5       2.0       1.0     156.0      160.2564\n",
       "4      3         4019.0       2.5       3.0       2.0     134.0      160.2564\n",
       "5      3         4019.0       2.5       3.0       2.0      94.0      160.2564\n",
       "6      4         4019.0       2.5       3.0       1.0     120.0      160.2564"
      ]
     },
     "execution_count": 25,
     "metadata": {},
     "output_type": "execute_result"
    }
   ],
   "source": [
    "print(dataset.shape)\n",
    "\n",
    "dataset1_num_col = dataset.drop(['Car', 'Suburb', 'Type', 'Method', 'SellerG', 'Regionname', 'Price'], axis=1)\n",
    "\n",
    "print(dataset1_num_col.shape)\n",
    "\n",
    "dataset1_num_col.head()"
   ]
  },
  {
   "cell_type": "code",
   "execution_count": 29,
   "metadata": {
    "tags": []
   },
   "outputs": [
    {
     "name": "stdout",
     "output_type": "stream",
     "text": [
      "(27244, 713)\n"
     ]
    }
   ],
   "source": [
    "dataset_cat = pd.get_dummies(dataset, drop_first=True)\n",
    "print(dataset_cat.shape)"
   ]
  },
  {
   "cell_type": "code",
   "execution_count": 68,
   "metadata": {},
   "outputs": [],
   "source": [
    "# One-hot encoding for categorical columns\n",
    "X_encoded = pd.get_dummies(X, drop_first=True)"
   ]
  },
  {
   "cell_type": "code",
   "execution_count": 32,
   "metadata": {
    "tags": []
   },
   "outputs": [
    {
     "data": {
      "text/plain": [
       "(27244, 720)"
      ]
     },
     "execution_count": 32,
     "metadata": {},
     "output_type": "execute_result"
    }
   ],
   "source": [
    "dataset= pd.concat([dataset1_num_col,dataset_cat],axis = 1)\n",
    "dataset.shape"
   ]
  },
  {
   "cell_type": "code",
   "execution_count": 33,
   "metadata": {},
   "outputs": [
    {
     "data": {
      "text/html": [
       "<div>\n",
       "<style scoped>\n",
       "    .dataframe tbody tr th:only-of-type {\n",
       "        vertical-align: middle;\n",
       "    }\n",
       "\n",
       "    .dataframe tbody tr th {\n",
       "        vertical-align: top;\n",
       "    }\n",
       "\n",
       "    .dataframe thead th {\n",
       "        text-align: right;\n",
       "    }\n",
       "</style>\n",
       "<table border=\"1\" class=\"dataframe\">\n",
       "  <thead>\n",
       "    <tr style=\"text-align: right;\">\n",
       "      <th></th>\n",
       "      <th>Rooms</th>\n",
       "      <th>Propertycount</th>\n",
       "      <th>Distance</th>\n",
       "      <th>Bedroom2</th>\n",
       "      <th>Bathroom</th>\n",
       "      <th>Landsize</th>\n",
       "      <th>BuildingArea</th>\n",
       "      <th>Rooms</th>\n",
       "      <th>Propertycount</th>\n",
       "      <th>Distance</th>\n",
       "      <th>...</th>\n",
       "      <th>SellerG_iProperty</th>\n",
       "      <th>SellerG_iSell</th>\n",
       "      <th>SellerG_iTRAK</th>\n",
       "      <th>Regionname_Eastern Victoria</th>\n",
       "      <th>Regionname_Northern Metropolitan</th>\n",
       "      <th>Regionname_Northern Victoria</th>\n",
       "      <th>Regionname_South-Eastern Metropolitan</th>\n",
       "      <th>Regionname_Southern Metropolitan</th>\n",
       "      <th>Regionname_Western Metropolitan</th>\n",
       "      <th>Regionname_Western Victoria</th>\n",
       "    </tr>\n",
       "  </thead>\n",
       "  <tbody>\n",
       "    <tr>\n",
       "      <th>Rooms</th>\n",
       "      <td>1.000000</td>\n",
       "      <td>-0.061254</td>\n",
       "      <td>0.315521</td>\n",
       "      <td>0.554088</td>\n",
       "      <td>0.411772</td>\n",
       "      <td>0.362793</td>\n",
       "      <td>NaN</td>\n",
       "      <td>1.000000</td>\n",
       "      <td>-0.061254</td>\n",
       "      <td>0.315521</td>\n",
       "      <td>...</td>\n",
       "      <td>0.000083</td>\n",
       "      <td>-0.000879</td>\n",
       "      <td>0.007442</td>\n",
       "      <td>0.041889</td>\n",
       "      <td>-0.127206</td>\n",
       "      <td>0.039370</td>\n",
       "      <td>0.061489</td>\n",
       "      <td>-0.065584</td>\n",
       "      <td>0.048780</td>\n",
       "      <td>0.014713</td>\n",
       "    </tr>\n",
       "    <tr>\n",
       "      <th>Propertycount</th>\n",
       "      <td>-0.061254</td>\n",
       "      <td>1.000000</td>\n",
       "      <td>-0.072437</td>\n",
       "      <td>-0.016353</td>\n",
       "      <td>-0.003662</td>\n",
       "      <td>-0.053598</td>\n",
       "      <td>NaN</td>\n",
       "      <td>-0.061254</td>\n",
       "      <td>1.000000</td>\n",
       "      <td>-0.072437</td>\n",
       "      <td>...</td>\n",
       "      <td>-0.004705</td>\n",
       "      <td>0.012972</td>\n",
       "      <td>0.002574</td>\n",
       "      <td>-0.024355</td>\n",
       "      <td>0.154201</td>\n",
       "      <td>-0.054659</td>\n",
       "      <td>-0.062513</td>\n",
       "      <td>0.090168</td>\n",
       "      <td>-0.147851</td>\n",
       "      <td>-0.046407</td>\n",
       "    </tr>\n",
       "    <tr>\n",
       "      <th>Distance</th>\n",
       "      <td>0.315521</td>\n",
       "      <td>-0.072437</td>\n",
       "      <td>1.000000</td>\n",
       "      <td>0.153703</td>\n",
       "      <td>0.098960</td>\n",
       "      <td>0.343799</td>\n",
       "      <td>NaN</td>\n",
       "      <td>0.315521</td>\n",
       "      <td>-0.072437</td>\n",
       "      <td>1.000000</td>\n",
       "      <td>...</td>\n",
       "      <td>0.008671</td>\n",
       "      <td>0.065144</td>\n",
       "      <td>0.029938</td>\n",
       "      <td>0.004269</td>\n",
       "      <td>-0.158396</td>\n",
       "      <td>0.037143</td>\n",
       "      <td>0.260878</td>\n",
       "      <td>-0.177033</td>\n",
       "      <td>-0.000684</td>\n",
       "      <td>0.003242</td>\n",
       "    </tr>\n",
       "    <tr>\n",
       "      <th>Bedroom2</th>\n",
       "      <td>0.554088</td>\n",
       "      <td>-0.016353</td>\n",
       "      <td>0.153703</td>\n",
       "      <td>1.000000</td>\n",
       "      <td>0.838180</td>\n",
       "      <td>0.021490</td>\n",
       "      <td>NaN</td>\n",
       "      <td>0.554088</td>\n",
       "      <td>-0.016353</td>\n",
       "      <td>0.153703</td>\n",
       "      <td>...</td>\n",
       "      <td>0.002715</td>\n",
       "      <td>-0.008749</td>\n",
       "      <td>0.014408</td>\n",
       "      <td>0.032293</td>\n",
       "      <td>-0.064064</td>\n",
       "      <td>0.032293</td>\n",
       "      <td>0.035769</td>\n",
       "      <td>-0.061590</td>\n",
       "      <td>0.043613</td>\n",
       "      <td>0.025425</td>\n",
       "    </tr>\n",
       "    <tr>\n",
       "      <th>Bathroom</th>\n",
       "      <td>0.411772</td>\n",
       "      <td>-0.003662</td>\n",
       "      <td>0.098960</td>\n",
       "      <td>0.838180</td>\n",
       "      <td>1.000000</td>\n",
       "      <td>-0.080908</td>\n",
       "      <td>NaN</td>\n",
       "      <td>0.411772</td>\n",
       "      <td>-0.003662</td>\n",
       "      <td>0.098960</td>\n",
       "      <td>...</td>\n",
       "      <td>0.005736</td>\n",
       "      <td>-0.010774</td>\n",
       "      <td>0.012967</td>\n",
       "      <td>0.024773</td>\n",
       "      <td>-0.083128</td>\n",
       "      <td>0.035742</td>\n",
       "      <td>0.018730</td>\n",
       "      <td>0.002839</td>\n",
       "      <td>0.019581</td>\n",
       "      <td>0.005885</td>\n",
       "    </tr>\n",
       "    <tr>\n",
       "      <th>...</th>\n",
       "      <td>...</td>\n",
       "      <td>...</td>\n",
       "      <td>...</td>\n",
       "      <td>...</td>\n",
       "      <td>...</td>\n",
       "      <td>...</td>\n",
       "      <td>...</td>\n",
       "      <td>...</td>\n",
       "      <td>...</td>\n",
       "      <td>...</td>\n",
       "      <td>...</td>\n",
       "      <td>...</td>\n",
       "      <td>...</td>\n",
       "      <td>...</td>\n",
       "      <td>...</td>\n",
       "      <td>...</td>\n",
       "      <td>...</td>\n",
       "      <td>...</td>\n",
       "      <td>...</td>\n",
       "      <td>...</td>\n",
       "      <td>...</td>\n",
       "    </tr>\n",
       "    <tr>\n",
       "      <th>Regionname_Northern Victoria</th>\n",
       "      <td>0.039370</td>\n",
       "      <td>-0.054659</td>\n",
       "      <td>0.037143</td>\n",
       "      <td>0.032293</td>\n",
       "      <td>0.035742</td>\n",
       "      <td>0.042460</td>\n",
       "      <td>NaN</td>\n",
       "      <td>0.039370</td>\n",
       "      <td>-0.054659</td>\n",
       "      <td>0.037143</td>\n",
       "      <td>...</td>\n",
       "      <td>-0.000474</td>\n",
       "      <td>-0.002373</td>\n",
       "      <td>-0.002643</td>\n",
       "      <td>-0.006130</td>\n",
       "      <td>-0.049876</td>\n",
       "      <td>1.000000</td>\n",
       "      <td>-0.017815</td>\n",
       "      <td>-0.052834</td>\n",
       "      <td>-0.040787</td>\n",
       "      <td>-0.004656</td>\n",
       "    </tr>\n",
       "    <tr>\n",
       "      <th>Regionname_South-Eastern Metropolitan</th>\n",
       "      <td>0.061489</td>\n",
       "      <td>-0.062513</td>\n",
       "      <td>0.260878</td>\n",
       "      <td>0.035769</td>\n",
       "      <td>0.018730</td>\n",
       "      <td>0.101062</td>\n",
       "      <td>NaN</td>\n",
       "      <td>0.061489</td>\n",
       "      <td>-0.062513</td>\n",
       "      <td>0.260878</td>\n",
       "      <td>...</td>\n",
       "      <td>-0.001379</td>\n",
       "      <td>0.133197</td>\n",
       "      <td>-0.002647</td>\n",
       "      <td>-0.017815</td>\n",
       "      <td>-0.144939</td>\n",
       "      <td>-0.017815</td>\n",
       "      <td>1.000000</td>\n",
       "      <td>-0.153535</td>\n",
       "      <td>-0.118526</td>\n",
       "      <td>-0.013530</td>\n",
       "    </tr>\n",
       "    <tr>\n",
       "      <th>Regionname_Southern Metropolitan</th>\n",
       "      <td>-0.065584</td>\n",
       "      <td>0.090168</td>\n",
       "      <td>-0.177033</td>\n",
       "      <td>-0.061590</td>\n",
       "      <td>0.002839</td>\n",
       "      <td>-0.074656</td>\n",
       "      <td>NaN</td>\n",
       "      <td>-0.065584</td>\n",
       "      <td>0.090168</td>\n",
       "      <td>-0.177033</td>\n",
       "      <td>...</td>\n",
       "      <td>-0.004088</td>\n",
       "      <td>-0.020450</td>\n",
       "      <td>-0.022775</td>\n",
       "      <td>-0.052834</td>\n",
       "      <td>-0.429847</td>\n",
       "      <td>-0.052834</td>\n",
       "      <td>-0.153535</td>\n",
       "      <td>1.000000</td>\n",
       "      <td>-0.351514</td>\n",
       "      <td>-0.040127</td>\n",
       "    </tr>\n",
       "    <tr>\n",
       "      <th>Regionname_Western Metropolitan</th>\n",
       "      <td>0.048780</td>\n",
       "      <td>-0.147851</td>\n",
       "      <td>-0.000684</td>\n",
       "      <td>0.043613</td>\n",
       "      <td>0.019581</td>\n",
       "      <td>-0.005128</td>\n",
       "      <td>NaN</td>\n",
       "      <td>0.048780</td>\n",
       "      <td>-0.147851</td>\n",
       "      <td>-0.000684</td>\n",
       "      <td>...</td>\n",
       "      <td>-0.003156</td>\n",
       "      <td>-0.015787</td>\n",
       "      <td>-0.017582</td>\n",
       "      <td>-0.040787</td>\n",
       "      <td>-0.331832</td>\n",
       "      <td>-0.040787</td>\n",
       "      <td>-0.118526</td>\n",
       "      <td>-0.351514</td>\n",
       "      <td>1.000000</td>\n",
       "      <td>-0.030977</td>\n",
       "    </tr>\n",
       "    <tr>\n",
       "      <th>Regionname_Western Victoria</th>\n",
       "      <td>0.014713</td>\n",
       "      <td>-0.046407</td>\n",
       "      <td>0.003242</td>\n",
       "      <td>0.025425</td>\n",
       "      <td>0.005885</td>\n",
       "      <td>0.033255</td>\n",
       "      <td>NaN</td>\n",
       "      <td>0.014713</td>\n",
       "      <td>-0.046407</td>\n",
       "      <td>0.003242</td>\n",
       "      <td>...</td>\n",
       "      <td>-0.000360</td>\n",
       "      <td>-0.001802</td>\n",
       "      <td>-0.002007</td>\n",
       "      <td>-0.004656</td>\n",
       "      <td>-0.037880</td>\n",
       "      <td>-0.004656</td>\n",
       "      <td>-0.013530</td>\n",
       "      <td>-0.040127</td>\n",
       "      <td>-0.030977</td>\n",
       "      <td>1.000000</td>\n",
       "    </tr>\n",
       "  </tbody>\n",
       "</table>\n",
       "<p>720 rows × 720 columns</p>\n",
       "</div>"
      ],
      "text/plain": [
       "                                          Rooms  Propertycount  Distance  \\\n",
       "Rooms                                  1.000000      -0.061254  0.315521   \n",
       "Propertycount                         -0.061254       1.000000 -0.072437   \n",
       "Distance                               0.315521      -0.072437  1.000000   \n",
       "Bedroom2                               0.554088      -0.016353  0.153703   \n",
       "Bathroom                               0.411772      -0.003662  0.098960   \n",
       "...                                         ...            ...       ...   \n",
       "Regionname_Northern Victoria           0.039370      -0.054659  0.037143   \n",
       "Regionname_South-Eastern Metropolitan  0.061489      -0.062513  0.260878   \n",
       "Regionname_Southern Metropolitan      -0.065584       0.090168 -0.177033   \n",
       "Regionname_Western Metropolitan        0.048780      -0.147851 -0.000684   \n",
       "Regionname_Western Victoria            0.014713      -0.046407  0.003242   \n",
       "\n",
       "                                       Bedroom2  Bathroom  Landsize  \\\n",
       "Rooms                                  0.554088  0.411772  0.362793   \n",
       "Propertycount                         -0.016353 -0.003662 -0.053598   \n",
       "Distance                               0.153703  0.098960  0.343799   \n",
       "Bedroom2                               1.000000  0.838180  0.021490   \n",
       "Bathroom                               0.838180  1.000000 -0.080908   \n",
       "...                                         ...       ...       ...   \n",
       "Regionname_Northern Victoria           0.032293  0.035742  0.042460   \n",
       "Regionname_South-Eastern Metropolitan  0.035769  0.018730  0.101062   \n",
       "Regionname_Southern Metropolitan      -0.061590  0.002839 -0.074656   \n",
       "Regionname_Western Metropolitan        0.043613  0.019581 -0.005128   \n",
       "Regionname_Western Victoria            0.025425  0.005885  0.033255   \n",
       "\n",
       "                                       BuildingArea     Rooms  Propertycount  \\\n",
       "Rooms                                           NaN  1.000000      -0.061254   \n",
       "Propertycount                                   NaN -0.061254       1.000000   \n",
       "Distance                                        NaN  0.315521      -0.072437   \n",
       "Bedroom2                                        NaN  0.554088      -0.016353   \n",
       "Bathroom                                        NaN  0.411772      -0.003662   \n",
       "...                                             ...       ...            ...   \n",
       "Regionname_Northern Victoria                    NaN  0.039370      -0.054659   \n",
       "Regionname_South-Eastern Metropolitan           NaN  0.061489      -0.062513   \n",
       "Regionname_Southern Metropolitan                NaN -0.065584       0.090168   \n",
       "Regionname_Western Metropolitan                 NaN  0.048780      -0.147851   \n",
       "Regionname_Western Victoria                     NaN  0.014713      -0.046407   \n",
       "\n",
       "                                       Distance  ...  SellerG_iProperty  \\\n",
       "Rooms                                  0.315521  ...           0.000083   \n",
       "Propertycount                         -0.072437  ...          -0.004705   \n",
       "Distance                               1.000000  ...           0.008671   \n",
       "Bedroom2                               0.153703  ...           0.002715   \n",
       "Bathroom                               0.098960  ...           0.005736   \n",
       "...                                         ...  ...                ...   \n",
       "Regionname_Northern Victoria           0.037143  ...          -0.000474   \n",
       "Regionname_South-Eastern Metropolitan  0.260878  ...          -0.001379   \n",
       "Regionname_Southern Metropolitan      -0.177033  ...          -0.004088   \n",
       "Regionname_Western Metropolitan       -0.000684  ...          -0.003156   \n",
       "Regionname_Western Victoria            0.003242  ...          -0.000360   \n",
       "\n",
       "                                       SellerG_iSell  SellerG_iTRAK  \\\n",
       "Rooms                                      -0.000879       0.007442   \n",
       "Propertycount                               0.012972       0.002574   \n",
       "Distance                                    0.065144       0.029938   \n",
       "Bedroom2                                   -0.008749       0.014408   \n",
       "Bathroom                                   -0.010774       0.012967   \n",
       "...                                              ...            ...   \n",
       "Regionname_Northern Victoria               -0.002373      -0.002643   \n",
       "Regionname_South-Eastern Metropolitan       0.133197      -0.002647   \n",
       "Regionname_Southern Metropolitan           -0.020450      -0.022775   \n",
       "Regionname_Western Metropolitan            -0.015787      -0.017582   \n",
       "Regionname_Western Victoria                -0.001802      -0.002007   \n",
       "\n",
       "                                       Regionname_Eastern Victoria  \\\n",
       "Rooms                                                     0.041889   \n",
       "Propertycount                                            -0.024355   \n",
       "Distance                                                  0.004269   \n",
       "Bedroom2                                                  0.032293   \n",
       "Bathroom                                                  0.024773   \n",
       "...                                                            ...   \n",
       "Regionname_Northern Victoria                             -0.006130   \n",
       "Regionname_South-Eastern Metropolitan                    -0.017815   \n",
       "Regionname_Southern Metropolitan                         -0.052834   \n",
       "Regionname_Western Metropolitan                          -0.040787   \n",
       "Regionname_Western Victoria                              -0.004656   \n",
       "\n",
       "                                       Regionname_Northern Metropolitan  \\\n",
       "Rooms                                                         -0.127206   \n",
       "Propertycount                                                  0.154201   \n",
       "Distance                                                      -0.158396   \n",
       "Bedroom2                                                      -0.064064   \n",
       "Bathroom                                                      -0.083128   \n",
       "...                                                                 ...   \n",
       "Regionname_Northern Victoria                                  -0.049876   \n",
       "Regionname_South-Eastern Metropolitan                         -0.144939   \n",
       "Regionname_Southern Metropolitan                              -0.429847   \n",
       "Regionname_Western Metropolitan                               -0.331832   \n",
       "Regionname_Western Victoria                                   -0.037880   \n",
       "\n",
       "                                       Regionname_Northern Victoria  \\\n",
       "Rooms                                                      0.039370   \n",
       "Propertycount                                             -0.054659   \n",
       "Distance                                                   0.037143   \n",
       "Bedroom2                                                   0.032293   \n",
       "Bathroom                                                   0.035742   \n",
       "...                                                             ...   \n",
       "Regionname_Northern Victoria                               1.000000   \n",
       "Regionname_South-Eastern Metropolitan                     -0.017815   \n",
       "Regionname_Southern Metropolitan                          -0.052834   \n",
       "Regionname_Western Metropolitan                           -0.040787   \n",
       "Regionname_Western Victoria                               -0.004656   \n",
       "\n",
       "                                       Regionname_South-Eastern Metropolitan  \\\n",
       "Rooms                                                               0.061489   \n",
       "Propertycount                                                      -0.062513   \n",
       "Distance                                                            0.260878   \n",
       "Bedroom2                                                            0.035769   \n",
       "Bathroom                                                            0.018730   \n",
       "...                                                                      ...   \n",
       "Regionname_Northern Victoria                                       -0.017815   \n",
       "Regionname_South-Eastern Metropolitan                               1.000000   \n",
       "Regionname_Southern Metropolitan                                   -0.153535   \n",
       "Regionname_Western Metropolitan                                    -0.118526   \n",
       "Regionname_Western Victoria                                        -0.013530   \n",
       "\n",
       "                                       Regionname_Southern Metropolitan  \\\n",
       "Rooms                                                         -0.065584   \n",
       "Propertycount                                                  0.090168   \n",
       "Distance                                                      -0.177033   \n",
       "Bedroom2                                                      -0.061590   \n",
       "Bathroom                                                       0.002839   \n",
       "...                                                                 ...   \n",
       "Regionname_Northern Victoria                                  -0.052834   \n",
       "Regionname_South-Eastern Metropolitan                         -0.153535   \n",
       "Regionname_Southern Metropolitan                               1.000000   \n",
       "Regionname_Western Metropolitan                               -0.351514   \n",
       "Regionname_Western Victoria                                   -0.040127   \n",
       "\n",
       "                                       Regionname_Western Metropolitan  \\\n",
       "Rooms                                                         0.048780   \n",
       "Propertycount                                                -0.147851   \n",
       "Distance                                                     -0.000684   \n",
       "Bedroom2                                                      0.043613   \n",
       "Bathroom                                                      0.019581   \n",
       "...                                                                ...   \n",
       "Regionname_Northern Victoria                                 -0.040787   \n",
       "Regionname_South-Eastern Metropolitan                        -0.118526   \n",
       "Regionname_Southern Metropolitan                             -0.351514   \n",
       "Regionname_Western Metropolitan                               1.000000   \n",
       "Regionname_Western Victoria                                  -0.030977   \n",
       "\n",
       "                                       Regionname_Western Victoria  \n",
       "Rooms                                                     0.014713  \n",
       "Propertycount                                            -0.046407  \n",
       "Distance                                                  0.003242  \n",
       "Bedroom2                                                  0.025425  \n",
       "Bathroom                                                  0.005885  \n",
       "...                                                            ...  \n",
       "Regionname_Northern Victoria                             -0.004656  \n",
       "Regionname_South-Eastern Metropolitan                    -0.013530  \n",
       "Regionname_Southern Metropolitan                         -0.040127  \n",
       "Regionname_Western Metropolitan                          -0.030977  \n",
       "Regionname_Western Victoria                               1.000000  \n",
       "\n",
       "[720 rows x 720 columns]"
      ]
     },
     "execution_count": 33,
     "metadata": {},
     "output_type": "execute_result"
    }
   ],
   "source": [
    "dataset.corr()"
   ]
  },
  {
   "cell_type": "markdown",
   "metadata": {},
   "source": [
    "### Data Standardization"
   ]
  },
  {
   "cell_type": "code",
   "execution_count": 35,
   "metadata": {},
   "outputs": [],
   "source": [
    "# x represents features(independent variables)\n",
    "# y represents target column(dependent variable) to be predicted or analyzed."
   ]
  },
  {
   "cell_type": "code",
   "execution_count": 36,
   "metadata": {},
   "outputs": [
    {
     "name": "stdout",
     "output_type": "stream",
     "text": [
      "(27244, 719)\n",
      "(27244,)\n"
     ]
    }
   ],
   "source": [
    "X = dataset.drop('Price', axis=1)\n",
    "y = dataset['Price']\n",
    "\n",
    "print(X.shape)\n",
    "print(y.shape)"
   ]
  },
  {
   "cell_type": "code",
   "execution_count": 37,
   "metadata": {},
   "outputs": [],
   "source": [
    "from sklearn.preprocessing import StandardScaler\n",
    "# defineing min max scaler\n",
    "scaler = StandardScaler()\n",
    "# transform data\n",
    "scaled = scaler.fit_transform(X)"
   ]
  },
  {
   "cell_type": "code",
   "execution_count": 38,
   "metadata": {},
   "outputs": [],
   "source": [
    "# x_train(features) & y_train(target column) are for the training set.\n",
    "# x_test(features) & y_test(target column) are for the testing set.\n",
    "# test_size = 0.2 indicates that 20% of the data will be used for testing,\n",
    "# random_state = 40 sets a seed for randomization to ensure reproducibility."
   ]
  },
  {
   "cell_type": "code",
   "execution_count": 39,
   "metadata": {},
   "outputs": [],
   "source": [
    "from sklearn.model_selection import train_test_split\n",
    "X_train, X_test, y_train, y_test = train_test_split(scaled, y, test_size=0.2, random_state=40)"
   ]
  },
  {
   "cell_type": "code",
   "execution_count": 40,
   "metadata": {},
   "outputs": [],
   "source": [
    "# Fiting the model to the training data\n",
    "# predicting training set\n",
    "# predicting testing set"
   ]
  },
  {
   "cell_type": "code",
   "execution_count": 43,
   "metadata": {},
   "outputs": [],
   "source": [
    "from sklearn.linear_model import LinearRegression\n",
    "reg = LinearRegression().fit(X_train, y_train)\n",
    "\n",
    "Reg_predict = reg.predict(X_test)\n",
    "Reg_pred_train = reg.predict(X_train)"
   ]
  },
  {
   "cell_type": "code",
   "execution_count": 44,
   "metadata": {},
   "outputs": [
    {
     "name": "stdout",
     "output_type": "stream",
     "text": [
      "R score: -6.92873898691711e+26\n",
      "MSE = 2.8697684203771085e+38\n",
      "R_score: 0.6781530854058526\n",
      "MSE Train: 132218812969.11893\n"
     ]
    }
   ],
   "source": [
    "from sklearn import metrics\n",
    "\n",
    "print(\"R score:\", metrics.r2_score(y_test, Reg_predict))\n",
    "print(\"MSE =\", metrics.mean_squared_error(y_test, Reg_predict))\n",
    "print(\"R_score:\", metrics.r2_score(y_train, Reg_pred_train))\n",
    "print(\"MSE Train:\", metrics.mean_squared_error(y_train, Reg_pred_train))"
   ]
  },
  {
   "cell_type": "code",
   "execution_count": 46,
   "metadata": {},
   "outputs": [
    {
     "name": "stdout",
     "output_type": "stream",
     "text": [
      "(27244, 1)\n",
      "(27244,)\n"
     ]
    }
   ],
   "source": [
    "# Simple Regression\n",
    "x = dataset['Rooms'].iloc[:,:-1].values\n",
    "y = dataset['Price'].values\n",
    "print(x.shape)\n",
    "print(y.shape)"
   ]
  },
  {
   "cell_type": "code",
   "execution_count": 47,
   "metadata": {},
   "outputs": [],
   "source": [
    "from sklearn.preprocessing import StandardScaler\n",
    "# define min max scaler\n",
    "scaler=StandardScaler()\n",
    "# transform data\n",
    "scaled=scaler.fit_transform(x)"
   ]
  },
  {
   "cell_type": "code",
   "execution_count": 48,
   "metadata": {},
   "outputs": [],
   "source": [
    "from sklearn.model_selection import train_test_split\n",
    "X_train, X_test, y_train, y_test = train_test_split(scaled, y, test_size=0.2, random_state=40)"
   ]
  },
  {
   "cell_type": "code",
   "execution_count": 49,
   "metadata": {},
   "outputs": [],
   "source": [
    "from sklearn.linear_model import LinearRegression\n",
    "reg = LinearRegression().fit(X_train, y_train)\n",
    "\n",
    "Reg_predict = reg.predict(X_test)\n",
    "Reg_train_predict = reg.predict(X_train)"
   ]
  },
  {
   "cell_type": "code",
   "execution_count": 50,
   "metadata": {},
   "outputs": [
    {
     "name": "stdout",
     "output_type": "stream",
     "text": [
      "R score Test 0.20903108291078887\n",
      "MSE Test=  327606166727.96204\n",
      "R score Train 0.21747225615327836\n",
      "MSE Train=  321472366877.5471\n"
     ]
    }
   ],
   "source": [
    "from sklearn import metrics\n",
    "\n",
    "print(\"R score Test\", metrics.r2_score(y_test, Reg_predict))\n",
    "print(\"MSE Test= \", metrics.mean_squared_error(y_test, Reg_predict))\n",
    "print(\"R score Train\", metrics.r2_score(y_train, Reg_train_predict))\n",
    "print(\"MSE Train= \", metrics.mean_squared_error(y_train, Reg_train_predict))"
   ]
  },
  {
   "cell_type": "markdown",
   "metadata": {},
   "source": [
    "### Using Lasso (L1 Regularization) Regression Model"
   ]
  },
  {
   "cell_type": "code",
   "execution_count": 55,
   "metadata": {},
   "outputs": [
    {
     "name": "stderr",
     "output_type": "stream",
     "text": [
      "C:\\Users\\jamts\\anaconda3\\Lib\\site-packages\\sklearn\\linear_model\\_coordinate_descent.py:628: ConvergenceWarning: Objective did not converge. You might want to increase the number of iterations, check the scale of the features or consider increasing regularisation. Duality gap: 1.256e+15, tolerance: 8.954e+11\n",
      "  model = cd_fast.enet_coordinate_descent(\n"
     ]
    }
   ],
   "source": [
    "from sklearn.linear_model import Lasso\n",
    "lasso_reg = Lasso()\n",
    "\n",
    "lasso_reg.fit(X_train, y_train)\n",
    "\n",
    "y_pred_lasso_train = lasso_reg.predict(X_train)\n",
    "y_pred_lasso_test = lasso_reg.predict(X_test)"
   ]
  },
  {
   "cell_type": "code",
   "execution_count": 56,
   "metadata": {},
   "outputs": [],
   "source": [
    "import pandas as pd\n",
    "from sklearn.preprocessing import StandardScaler\n",
    "from sklearn.model_selection import train_test_split\n",
    "from sklearn.linear_model import LinearRegression\n",
    "\n",
    "X_encoded = pd.get_dummies(X, drop_first=True)\n",
    "\n",
    "scaler = StandardScaler()\n",
    "X_scaled = scaler.fit_transform(X_encoded)\n",
    "\n",
    "X_train, X_test, y_train, y_test = train_test_split(X_scaled, y, test_size=0.2, random_state=40)\n",
    "\n",
    "reg = LinearRegression().fit(X_train, y_train)\n",
    "Reg_predict = reg.predict(X_test)\n",
    "Reg_pred_train = reg.predict(X_train)"
   ]
  },
  {
   "cell_type": "code",
   "execution_count": 57,
   "metadata": {},
   "outputs": [
    {
     "data": {
      "text/plain": [
       "0.667377562224079"
      ]
     },
     "execution_count": 57,
     "metadata": {},
     "output_type": "execute_result"
    }
   ],
   "source": [
    "lasso_reg.score(X_test,y_test)"
   ]
  },
  {
   "cell_type": "code",
   "execution_count": 59,
   "metadata": {},
   "outputs": [
    {
     "data": {
      "text/plain": [
       "0.6789301847107857"
      ]
     },
     "execution_count": 59,
     "metadata": {},
     "output_type": "execute_result"
    }
   ],
   "source": [
    "lasso_reg.score(X_train,y_train)"
   ]
  },
  {
   "cell_type": "markdown",
   "metadata": {},
   "source": [
    "### Using Ridge(L2 Regularization) Regression Model"
   ]
  },
  {
   "cell_type": "code",
   "execution_count": 60,
   "metadata": {},
   "outputs": [
    {
     "data": {
      "text/html": [
       "<style>#sk-container-id-1 {color: black;}#sk-container-id-1 pre{padding: 0;}#sk-container-id-1 div.sk-toggleable {background-color: white;}#sk-container-id-1 label.sk-toggleable__label {cursor: pointer;display: block;width: 100%;margin-bottom: 0;padding: 0.3em;box-sizing: border-box;text-align: center;}#sk-container-id-1 label.sk-toggleable__label-arrow:before {content: \"▸\";float: left;margin-right: 0.25em;color: #696969;}#sk-container-id-1 label.sk-toggleable__label-arrow:hover:before {color: black;}#sk-container-id-1 div.sk-estimator:hover label.sk-toggleable__label-arrow:before {color: black;}#sk-container-id-1 div.sk-toggleable__content {max-height: 0;max-width: 0;overflow: hidden;text-align: left;background-color: #f0f8ff;}#sk-container-id-1 div.sk-toggleable__content pre {margin: 0.2em;color: black;border-radius: 0.25em;background-color: #f0f8ff;}#sk-container-id-1 input.sk-toggleable__control:checked~div.sk-toggleable__content {max-height: 200px;max-width: 100%;overflow: auto;}#sk-container-id-1 input.sk-toggleable__control:checked~label.sk-toggleable__label-arrow:before {content: \"▾\";}#sk-container-id-1 div.sk-estimator input.sk-toggleable__control:checked~label.sk-toggleable__label {background-color: #d4ebff;}#sk-container-id-1 div.sk-label input.sk-toggleable__control:checked~label.sk-toggleable__label {background-color: #d4ebff;}#sk-container-id-1 input.sk-hidden--visually {border: 0;clip: rect(1px 1px 1px 1px);clip: rect(1px, 1px, 1px, 1px);height: 1px;margin: -1px;overflow: hidden;padding: 0;position: absolute;width: 1px;}#sk-container-id-1 div.sk-estimator {font-family: monospace;background-color: #f0f8ff;border: 1px dotted black;border-radius: 0.25em;box-sizing: border-box;margin-bottom: 0.5em;}#sk-container-id-1 div.sk-estimator:hover {background-color: #d4ebff;}#sk-container-id-1 div.sk-parallel-item::after {content: \"\";width: 100%;border-bottom: 1px solid gray;flex-grow: 1;}#sk-container-id-1 div.sk-label:hover label.sk-toggleable__label {background-color: #d4ebff;}#sk-container-id-1 div.sk-serial::before {content: \"\";position: absolute;border-left: 1px solid gray;box-sizing: border-box;top: 0;bottom: 0;left: 50%;z-index: 0;}#sk-container-id-1 div.sk-serial {display: flex;flex-direction: column;align-items: center;background-color: white;padding-right: 0.2em;padding-left: 0.2em;position: relative;}#sk-container-id-1 div.sk-item {position: relative;z-index: 1;}#sk-container-id-1 div.sk-parallel {display: flex;align-items: stretch;justify-content: center;background-color: white;position: relative;}#sk-container-id-1 div.sk-item::before, #sk-container-id-1 div.sk-parallel-item::before {content: \"\";position: absolute;border-left: 1px solid gray;box-sizing: border-box;top: 0;bottom: 0;left: 50%;z-index: -1;}#sk-container-id-1 div.sk-parallel-item {display: flex;flex-direction: column;z-index: 1;position: relative;background-color: white;}#sk-container-id-1 div.sk-parallel-item:first-child::after {align-self: flex-end;width: 50%;}#sk-container-id-1 div.sk-parallel-item:last-child::after {align-self: flex-start;width: 50%;}#sk-container-id-1 div.sk-parallel-item:only-child::after {width: 0;}#sk-container-id-1 div.sk-dashed-wrapped {border: 1px dashed gray;margin: 0 0.4em 0.5em 0.4em;box-sizing: border-box;padding-bottom: 0.4em;background-color: white;}#sk-container-id-1 div.sk-label label {font-family: monospace;font-weight: bold;display: inline-block;line-height: 1.2em;}#sk-container-id-1 div.sk-label-container {text-align: center;}#sk-container-id-1 div.sk-container {/* jupyter's `normalize.less` sets `[hidden] { display: none; }` but bootstrap.min.css set `[hidden] { display: none !important; }` so we also need the `!important` here to be able to override the default hidden behavior on the sphinx rendered scikit-learn.org. See: https://github.com/scikit-learn/scikit-learn/issues/21755 */display: inline-block !important;position: relative;}#sk-container-id-1 div.sk-text-repr-fallback {display: none;}</style><div id=\"sk-container-id-1\" class=\"sk-top-container\"><div class=\"sk-text-repr-fallback\"><pre>Ridge()</pre><b>In a Jupyter environment, please rerun this cell to show the HTML representation or trust the notebook. <br />On GitHub, the HTML representation is unable to render, please try loading this page with nbviewer.org.</b></div><div class=\"sk-container\" hidden><div class=\"sk-item\"><div class=\"sk-estimator sk-toggleable\"><input class=\"sk-toggleable__control sk-hidden--visually\" id=\"sk-estimator-id-1\" type=\"checkbox\" checked><label for=\"sk-estimator-id-1\" class=\"sk-toggleable__label sk-toggleable__label-arrow\">Ridge</label><div class=\"sk-toggleable__content\"><pre>Ridge()</pre></div></div></div></div></div>"
      ],
      "text/plain": [
       "Ridge()"
      ]
     },
     "execution_count": 60,
     "metadata": {},
     "output_type": "execute_result"
    }
   ],
   "source": [
    "from sklearn.linear_model import Ridge\n",
    "ridge_reg =Ridge()\n",
    "ridge_reg.fit(X_train,y_train)"
   ]
  },
  {
   "cell_type": "code",
   "execution_count": 61,
   "metadata": {},
   "outputs": [
    {
     "data": {
      "text/plain": [
       "0.6673013695052004"
      ]
     },
     "execution_count": 61,
     "metadata": {},
     "output_type": "execute_result"
    }
   ],
   "source": [
    "ridge_reg.score(X_test,y_test)"
   ]
  },
  {
   "cell_type": "code",
   "execution_count": 62,
   "metadata": {},
   "outputs": [
    {
     "data": {
      "text/plain": [
       "0.6789363096805637"
      ]
     },
     "execution_count": 62,
     "metadata": {},
     "output_type": "execute_result"
    }
   ],
   "source": [
    "ridge_reg.score(X_train,y_train)"
   ]
  },
  {
   "cell_type": "markdown",
   "metadata": {},
   "source": [
    "### Using Elastic Net(En Regularization) Regression Model"
   ]
  },
  {
   "cell_type": "code",
   "execution_count": 64,
   "metadata": {},
   "outputs": [
    {
     "data": {
      "text/html": [
       "<style>#sk-container-id-3 {color: black;}#sk-container-id-3 pre{padding: 0;}#sk-container-id-3 div.sk-toggleable {background-color: white;}#sk-container-id-3 label.sk-toggleable__label {cursor: pointer;display: block;width: 100%;margin-bottom: 0;padding: 0.3em;box-sizing: border-box;text-align: center;}#sk-container-id-3 label.sk-toggleable__label-arrow:before {content: \"▸\";float: left;margin-right: 0.25em;color: #696969;}#sk-container-id-3 label.sk-toggleable__label-arrow:hover:before {color: black;}#sk-container-id-3 div.sk-estimator:hover label.sk-toggleable__label-arrow:before {color: black;}#sk-container-id-3 div.sk-toggleable__content {max-height: 0;max-width: 0;overflow: hidden;text-align: left;background-color: #f0f8ff;}#sk-container-id-3 div.sk-toggleable__content pre {margin: 0.2em;color: black;border-radius: 0.25em;background-color: #f0f8ff;}#sk-container-id-3 input.sk-toggleable__control:checked~div.sk-toggleable__content {max-height: 200px;max-width: 100%;overflow: auto;}#sk-container-id-3 input.sk-toggleable__control:checked~label.sk-toggleable__label-arrow:before {content: \"▾\";}#sk-container-id-3 div.sk-estimator input.sk-toggleable__control:checked~label.sk-toggleable__label {background-color: #d4ebff;}#sk-container-id-3 div.sk-label input.sk-toggleable__control:checked~label.sk-toggleable__label {background-color: #d4ebff;}#sk-container-id-3 input.sk-hidden--visually {border: 0;clip: rect(1px 1px 1px 1px);clip: rect(1px, 1px, 1px, 1px);height: 1px;margin: -1px;overflow: hidden;padding: 0;position: absolute;width: 1px;}#sk-container-id-3 div.sk-estimator {font-family: monospace;background-color: #f0f8ff;border: 1px dotted black;border-radius: 0.25em;box-sizing: border-box;margin-bottom: 0.5em;}#sk-container-id-3 div.sk-estimator:hover {background-color: #d4ebff;}#sk-container-id-3 div.sk-parallel-item::after {content: \"\";width: 100%;border-bottom: 1px solid gray;flex-grow: 1;}#sk-container-id-3 div.sk-label:hover label.sk-toggleable__label {background-color: #d4ebff;}#sk-container-id-3 div.sk-serial::before {content: \"\";position: absolute;border-left: 1px solid gray;box-sizing: border-box;top: 0;bottom: 0;left: 50%;z-index: 0;}#sk-container-id-3 div.sk-serial {display: flex;flex-direction: column;align-items: center;background-color: white;padding-right: 0.2em;padding-left: 0.2em;position: relative;}#sk-container-id-3 div.sk-item {position: relative;z-index: 1;}#sk-container-id-3 div.sk-parallel {display: flex;align-items: stretch;justify-content: center;background-color: white;position: relative;}#sk-container-id-3 div.sk-item::before, #sk-container-id-3 div.sk-parallel-item::before {content: \"\";position: absolute;border-left: 1px solid gray;box-sizing: border-box;top: 0;bottom: 0;left: 50%;z-index: -1;}#sk-container-id-3 div.sk-parallel-item {display: flex;flex-direction: column;z-index: 1;position: relative;background-color: white;}#sk-container-id-3 div.sk-parallel-item:first-child::after {align-self: flex-end;width: 50%;}#sk-container-id-3 div.sk-parallel-item:last-child::after {align-self: flex-start;width: 50%;}#sk-container-id-3 div.sk-parallel-item:only-child::after {width: 0;}#sk-container-id-3 div.sk-dashed-wrapped {border: 1px dashed gray;margin: 0 0.4em 0.5em 0.4em;box-sizing: border-box;padding-bottom: 0.4em;background-color: white;}#sk-container-id-3 div.sk-label label {font-family: monospace;font-weight: bold;display: inline-block;line-height: 1.2em;}#sk-container-id-3 div.sk-label-container {text-align: center;}#sk-container-id-3 div.sk-container {/* jupyter's `normalize.less` sets `[hidden] { display: none; }` but bootstrap.min.css set `[hidden] { display: none !important; }` so we also need the `!important` here to be able to override the default hidden behavior on the sphinx rendered scikit-learn.org. See: https://github.com/scikit-learn/scikit-learn/issues/21755 */display: inline-block !important;position: relative;}#sk-container-id-3 div.sk-text-repr-fallback {display: none;}</style><div id=\"sk-container-id-3\" class=\"sk-top-container\"><div class=\"sk-text-repr-fallback\"><pre>ElasticNet()</pre><b>In a Jupyter environment, please rerun this cell to show the HTML representation or trust the notebook. <br />On GitHub, the HTML representation is unable to render, please try loading this page with nbviewer.org.</b></div><div class=\"sk-container\" hidden><div class=\"sk-item\"><div class=\"sk-estimator sk-toggleable\"><input class=\"sk-toggleable__control sk-hidden--visually\" id=\"sk-estimator-id-3\" type=\"checkbox\" checked><label for=\"sk-estimator-id-3\" class=\"sk-toggleable__label sk-toggleable__label-arrow\">ElasticNet</label><div class=\"sk-toggleable__content\"><pre>ElasticNet()</pre></div></div></div></div></div>"
      ],
      "text/plain": [
       "ElasticNet()"
      ]
     },
     "execution_count": 64,
     "metadata": {},
     "output_type": "execute_result"
    }
   ],
   "source": [
    "from sklearn.linear_model import ElasticNet\n",
    "en_reg=ElasticNet()\n",
    "en_reg.fit(X_train,y_train)"
   ]
  },
  {
   "cell_type": "code",
   "execution_count": 65,
   "metadata": {},
   "outputs": [
    {
     "data": {
      "text/plain": [
       "0.6276302523573858"
      ]
     },
     "execution_count": 65,
     "metadata": {},
     "output_type": "execute_result"
    }
   ],
   "source": [
    "en_reg.score(X_test,y_test)"
   ]
  },
  {
   "cell_type": "code",
   "execution_count": 66,
   "metadata": {},
   "outputs": [
    {
     "data": {
      "text/plain": [
       "0.6410270474914657"
      ]
     },
     "execution_count": 66,
     "metadata": {},
     "output_type": "execute_result"
    }
   ],
   "source": [
    "en_reg.score(X_train,y_train)"
   ]
  },
  {
   "cell_type": "code",
   "execution_count": 67,
   "metadata": {},
   "outputs": [
    {
     "data": {
      "text/plain": [
       "(27244, 719)"
      ]
     },
     "execution_count": 67,
     "metadata": {},
     "output_type": "execute_result"
    }
   ],
   "source": [
    "X.shape"
   ]
  }
 ],
 "metadata": {
  "kernelspec": {
   "display_name": "Python 3 (ipykernel)",
   "language": "python",
   "name": "python3"
  },
  "language_info": {
   "codemirror_mode": {
    "name": "ipython",
    "version": 3
   },
   "file_extension": ".py",
   "mimetype": "text/x-python",
   "name": "python",
   "nbconvert_exporter": "python",
   "pygments_lexer": "ipython3",
   "version": "3.11.5"
  }
 },
 "nbformat": 4,
 "nbformat_minor": 4
}
